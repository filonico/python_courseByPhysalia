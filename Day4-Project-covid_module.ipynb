{
 "cells": [
  {
   "cell_type": "code",
   "execution_count": null,
   "metadata": {},
   "outputs": [],
   "source": [
    "# Day3 Project Challenge - COVID module\n",
    "\n",
    "Find the original Notebook with detailed instructions by **Daniel Pass** [here](https://github.com/passdan/PracticalPythonProgrammingForBiologists/blob/main/Day4/P34B-Day4-Project-covid_modules.ipynb).\n",
    "\n",
    "Find the input file [here](inputData/Day4-Project-nextclade.fasta) and [here](inputData/Day4-Project-nextclade_metadata.csv).\n",
    "\n",
    "> In this exercise we are going to look at a complex dataset (n=126) of covid S protein reference sequences and associated metadata and statistics, and we're going to use some 3rd party modules to perform some higher-level analysis.\n",
    "> \n",
    "> As we have seen today there are many (many!) ways to approach any dataset. First consider a question that you want to test from this data. If you are more interested in statistical testing then you can focus on the metadata and statistics with pandas/scipy. If you are more interested in sequence bioinformatics then you can work with the fasta data. However you'll likely need both to fully investigate.\n",
    ">\n",
    "> You have been provided with two files:\n",
    ">\n",
    "> * [<code>Day4-Project-nextclade_metadata.csv</code>](inputData/Day4-Project-nextclade_metadata.csv) - Data & Metadata of 126 reference covid19 strains and the Spike (S) protein modificiation data\n",
    "> * [<code>Day4-Project-nextclade.fasta</code>](inputData/Day4-Project-nextclade.fasta) - Reference fasta sequence file for the corresponding spike proteins"
   ]
  },
  {
   "cell_type": "code",
   "execution_count": null,
   "metadata": {},
   "outputs": [],
   "source": [
    "import pandas as pd\n",
    "\n",
    "pip show pandas\n",
    "\n",
    "# Read in and filter the metadata file to remove bad and missing data"
   ]
  }
 ],
 "metadata": {
  "kernelspec": {
   "display_name": ".venv",
   "language": "python",
   "name": "python3"
  },
  "language_info": {
   "codemirror_mode": {
    "name": "ipython",
    "version": 3
   },
   "file_extension": ".py",
   "mimetype": "text/x-python",
   "name": "python",
   "nbconvert_exporter": "python",
   "pygments_lexer": "ipython3",
   "version": "3.9.13"
  },
  "orig_nbformat": 4
 },
 "nbformat": 4,
 "nbformat_minor": 2
}
