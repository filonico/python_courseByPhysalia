{
 "cells": [
  {
   "cell_type": "code",
   "execution_count": null,
   "metadata": {},
   "outputs": [],
   "source": [
    "# Day3 Project Challenge - COVID module\n",
    "\n",
    "Find the original Notebook with detailed instructions by **Daniel Pass** [here](https://github.com/passdan/PracticalPythonProgrammingForBiologists/blob/main/Day4/P34B-Day4-Project-covid_modules.ipynb).\n",
    "\n",
    "Find the input file [here](inputData/Day4-Project-nextclade.fasta) and [here](inputData/Day4-Project-nextclade_metadata.csv).\n",
    "\n",
    "> In this exercise we are going to look at a complex dataset (n=126) of covid S protein reference sequences and associated metadata and statistics, and we're going to use some 3rd party modules to perform some higher-level analysis.\n",
    "> \n",
    "> As we have seen today there are many (many!) ways to approach any dataset. First consider a question that you want to test from this data. If you are more interested in statistical testing then you can focus on the metadata and statistics with pandas/scipy. If you are more interested in sequence bioinformatics then you can work with the fasta data. However you'll likely need both to fully investigate.\n",
    ">\n",
    "> You have been provided with two files:\n",
    ">\n",
    "> * [<code>Day4-Project-nextclade_metadata.csv</code>](inputData/Day4-Project-nextclade_metadata.csv) - Data & Metadata of 126 reference covid19 strains and the Spike (S) protein modificiation data\n",
    "> * [<code>Day4-Project-nextclade.fasta</code>](inputData/Day4-Project-nextclade.fasta) - Reference fasta sequence file for the corresponding spike proteins"
   ]
  },
  {
   "cell_type": "code",
   "execution_count": 16,
   "metadata": {},
   "outputs": [
    {
     "ename": "ModuleNotFoundError",
     "evalue": "No module named 'Bio'",
     "output_type": "error",
     "traceback": [
      "\u001b[1;31m---------------------------------------------------------------------------\u001b[0m",
      "\u001b[1;31mModuleNotFoundError\u001b[0m                       Traceback (most recent call last)",
      "\u001b[1;32mc:\\Users\\nicol\\Documents\\GitHub\\python_courseByPhysalia\\Day4-Project-covid_module.ipynb Cell 2\u001b[0m line \u001b[0;36m2\n\u001b[0;32m      <a href='vscode-notebook-cell:/c%3A/Users/nicol/Documents/GitHub/python_courseByPhysalia/Day4-Project-covid_module.ipynb#W1sZmlsZQ%3D%3D?line=0'>1</a>\u001b[0m \u001b[39mimport\u001b[39;00m \u001b[39mpandas\u001b[39;00m \u001b[39mas\u001b[39;00m \u001b[39mpd\u001b[39;00m\n\u001b[1;32m----> <a href='vscode-notebook-cell:/c%3A/Users/nicol/Documents/GitHub/python_courseByPhysalia/Day4-Project-covid_module.ipynb#W1sZmlsZQ%3D%3D?line=1'>2</a>\u001b[0m \u001b[39mfrom\u001b[39;00m \u001b[39mBio\u001b[39;00m \u001b[39mimport\u001b[39;00m SeqIO, Seq\n\u001b[0;32m      <a href='vscode-notebook-cell:/c%3A/Users/nicol/Documents/GitHub/python_courseByPhysalia/Day4-Project-covid_module.ipynb#W1sZmlsZQ%3D%3D?line=4'>5</a>\u001b[0m \u001b[39m# Read in and filter the metadata file to remove bad and missing data\u001b[39;00m\n\u001b[0;32m      <a href='vscode-notebook-cell:/c%3A/Users/nicol/Documents/GitHub/python_courseByPhysalia/Day4-Project-covid_module.ipynb#W1sZmlsZQ%3D%3D?line=5'>6</a>\u001b[0m covid_data \u001b[39m=\u001b[39m pd\u001b[39m.\u001b[39mread_csv(\u001b[39m\"\u001b[39m\u001b[39minputData/Day4-Project-nextclade_metadata.csv\u001b[39m\u001b[39m\"\u001b[39m)\n",
      "\u001b[1;31mModuleNotFoundError\u001b[0m: No module named 'Bio'"
     ]
    }
   ],
   "source": [
    "import pandas as pd\n",
    "from Bio import SeqIO, Seq\n",
    "\n",
    "\n",
    "# Read in and filter the metadata file to remove bad and missing data\n",
    "covid_data = pd.read_csv(\"inputData/Day4-Project-nextclade_metadata.csv\")\n",
    "\n",
    "covid_data_cleaned = covid_data.dropna()\n",
    "\n",
    "# Read in the fasta sequence file. Only include sequences that have passed your step one filter!\n",
    "covid_seqs = []\n",
    "\n",
    "#for seq in SeqIO.parse(\"inputData/Day4-Project-nextclade.fasta\", \"fasta\"):\n",
    "\n",
    "print(\"OX458355\" in covid_data_cleaned[\"seqName\"])\n"
   ]
  }
 ],
 "metadata": {
  "kernelspec": {
   "display_name": ".venv",
   "language": "python",
   "name": "python3"
  },
  "language_info": {
   "codemirror_mode": {
    "name": "ipython",
    "version": 3
   },
   "file_extension": ".py",
   "mimetype": "text/x-python",
   "name": "python",
   "nbconvert_exporter": "python",
   "pygments_lexer": "ipython3",
   "version": "3.9.7"
  },
  "orig_nbformat": 4
 },
 "nbformat": 4,
 "nbformat_minor": 2
}
