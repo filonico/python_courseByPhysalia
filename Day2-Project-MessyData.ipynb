{
 "cells": [
  {
   "cell_type": "markdown",
   "metadata": {},
   "source": [
    "# Day2 Project Challenge - MessyData\n",
    "\n",
    "Find the original Notebook with detailed instructions by **Daniel Pass** [here](https://github.com/passdan/PracticalPythonProgrammingForBiologists/blob/main/Day2/P34B-Day2-Project-MessyData.ipynb).\n",
    "\n",
    "Find the input file [here](inputData/Day2-Project-MessyData.txt).\n",
    "\n",
    "> Data is messy. Biologist data even more so. Here we have some data on bacterial abundance as collected by some well meaning scientists but unfortunately it's a bit of a mess. It is technically in a four column format liks this, howver when you look below it's mixed up:\n",
    "> \n",
    ">       | Collector | Percentage abundance | Dominant Phyla | Date |\n",
    ">\n",
    "> Delimeters:\n",
    ">\n",
    "> * Between collected data samples: <code>,</code>\n",
    "> * Between data fields per sample: <code>-</code>\n",
    "> We want to clean up the data and make some sense out of it. The objective is to output a count of samples dominated by each phyla.\n",
    ">\n",
    "> Look at the text file first so that you know what we are looking at!"
   ]
  },
  {
   "cell_type": "code",
   "execution_count": 40,
   "metadata": {},
   "outputs": [
    {
     "name": "stdout",
     "output_type": "stream",
     "text": [
      "[['Edith Mcbride', '%1.21', 'Chloroflexi', '04/05/22'], ['Herbert Tran', '%7.29', 'Chloroflexi&Acidobacteria', '04/05/22'], ['Paul Clarke', '%12.52', 'Chloroflexi&Acidobacteria', '04/05/22'], ['Lucille Caldwell', '%5.13', 'Chloroflexi', '04/05/22'], ['Eduardo George', '%20.39', 'Chloroflexi&Bacillus', '04/05/22'], ['Danny Mclaughlin', '%30.82', 'Actinomycetes', '04/05/22'], ['Stacy Vargas', '%1.85', 'Actinomycetes&Bacillus', '01/08/22'], ['Shaun Brock', '%17.98', 'Actinomycetes&Bacillus', '01/08/22'], ['Erick Harper', '%17.41', 'Acidobacteria', '01/08/22'], ['Michelle Howell', '%28.59', 'Acidobacteria', '01/08/22'], ['Carroll Boyd', '%14.51', 'Actinomycetes&Acidobacteria', '01/08/22'], ['Teresa Carter', '%19.64', 'Chloroflexi', '01/08/22'], ['Jacob Kennedy', '%11.40', 'Chloroflexi&Firmicutes', '01/08/22'], ['Craig Chambers', '%8.79', 'Chloroflexi&Acidobacteria&Firmicutes', '01/08/22'], ['Peggy Bell', '%8.65', 'Acidobacteria', '01/08/22'], ['Kenneth Cunningham', '%10.53', 'Proteobacteria&Acidobacteria', '01/08/22'], ['Marvin Morgan', '%16.49', 'Proteobacteria&Acidobacteria&Firmicutes', '01/08/22'], ['Marjorie Russell', '%6.55', 'Proteobacteria&Acidobacteria&Firmicutes', '01/08/22'], ['Israel Cummings', '%11.86', 'Cyanobacteria', '01/08/22'], ['June Doyle', '%22.29', 'Cyanobacteria&Bacillus', '01/08/22'], ['Jaime Buchanan', '%8.35', 'Chloroflexi&Cyanobacteria&Bacillus', '01/08/22'], ['Rhonda Farmer', '%2.91', 'Chloroflexi&Cyanobacteria&Bacillus', '01/08/22'], ['Darren Mckenzie', '%22.94', 'Proteobacteria', '01/08/22'], ['Rufus Malone', '%4.70', 'Proteobacteria&Bacillus', '01/08/22'], ['Hubert Miles', '%3.59', 'Proteobacteria&Bacillus&Acidobacteria', '01/08/22'], ['Joseph Bridges', '%5.66', 'Proteobacteria&Bacillus&Actinomycetes&Acidobacteria', '01/08/22'], ['Sergio Murphy', '%17.51', 'Cyanobacteria', '01/08/22'], ['Audrey Ferguson', '%5.54', 'Cyanobacteria&Acidobacteria', '01/08/22'], ['Edna Williams', '%17.13', 'Cyanobacteria&Acidobacteria', '04/05/22'], ['Randy Fleming', '%21.13', 'Cyanobacteria', '04/05/22'], ['Elisa Hart', '%0.35', 'Cyanobacteria&Actinomycetes', '04/05/22'], ['Ernesto Hunt', '%13.91', 'Cyanobacteria&Actinomycetes', '04/05/22'], ['Shannon Chavez', '%19.26', 'Bacillus', '04/05/22'], ['Sammy Cain', '%5.45', 'Bacillus&Firmicutes', '04/05/22'], ['Steven Reeves', '%5.50', 'Bacillus', '04/05/22'], ['Ruben Jones', '%14.56', 'Bacillus&Acidobacteria', '04/05/22'], ['Essie Hansen', '%7.33', 'Bacillus&Acidobacteria&Firmicutes', '04/05/22'], ['Rene Hardy', '%20.22', 'Cyanobacteria', '04/05/22'], ['Lucy Snyder', '%8.67', 'Cyanobacteria&Firmicutes', '04/05/22'], ['Dallas Obrien', '%8.31', 'Cyanobacteria&Firmicutes', '15/03/22'], ['Stacey Payne', '%15.70', 'Chloroflexi&Cyanobacteria&Firmicutes', '15/03/22'], ['Tanya Cox', '%6.74', 'Bacillus', '15/03/22'], ['Melody Moran', '%30.84', 'Bacillus&Cyanobacteria', '15/03/22'], ['Louise Becker', '%12.31', 'Proteobacteria&Bacillus&Cyanobacteria', '15/03/22'], ['Ryan Webster', '%2.94', 'Bacillus', '15/03/22'], ['Justin Blake', '%22.46', 'Chloroflexi&Bacillus', '15/03/22'], ['Beverly Baldwin', '%6.60', 'Chloroflexi&Bacillus&Cyanobacteria', '15/03/22'], ['Dale Brady', '%6.27', 'Bacillus', '15/03/22'], ['Guadalupe Potter', '%21.12', 'Bacillus', '15/03/22'], ['Desiree Butler', '%2.10', 'Chloroflexi', '15/03/22'], ['Sonja Barnett', '%14.22', 'Chloroflexi&Cyanobacteria', '15/03/22'], ['Angelica Garza', '%11.60', 'Chloroflexi&Cyanobacteria', '15/03/22'], ['Jamie Welch', '%25.27', 'Chloroflexi&Cyanobacteria&Firmicutes', '15/03/22'], ['Rex Hudson', '%8.26', 'Actinomycetes', '04/05/22'], ['Nadine Gibbs', '%30.80', 'Actinomycetes&Bacillus', '04/05/22'], ['Hannah Pratt', '%22.61', 'Actinomycetes&Bacillus', '04/05/22'], ['Gayle Richards', '%22.19', 'Proteobacteria&Actinomycetes&Bacillus', '04/05/22'], ['Stanley Holland', '%7.47', 'Firmicutes', '04/05/22'], ['Anna Dean', '%5.49', 'Bacillus&Firmicutes', '04/05/22'], ['Terrance Saunders', '%23.70', 'Proteobacteria&Bacillus&Firmicutes', '04/05/22'], ['Brandi Zimmerman', '%26.66', 'Firmicutes', '04/05/22'], ['Guadalupe Freeman', '%25.95', 'Proteobacteria&Firmicutes', '21/06/22'], ['Irving Patterson', '%19.55', 'Proteobacteria&Chloroflexi&Firmicutes', '21/06/22'], ['Karl Ross', '%15.68', 'Chloroflexi', '21/06/22'], ['Brandy Cortez', '%23.57', 'Chloroflexi&Firmicutes', '21/06/22'], ['Mamie Riley', '%29.32', 'Actinomycetes', '21/06/22'], ['Mike Thornton', '%26.44', 'Actinomycetes', '21/06/22'], ['Jamie Vaughn', '%17.24', 'Proteobacteria', '21/06/22'], ['Noah Day', '%8.49', 'Proteobacteria', '21/06/22'], ['Josephine Keller', '%13.10', 'Proteobacteria', '21/06/22'], ['Tracey Wolfe', '%20.39', 'Firmicutes', '21/06/22'], ['Ignacio Parks', '%14.70', 'Chloroflexi&Firmicutes', '21/06/22'], ['Beatrice Newman', '%22.45', 'Chloroflexi&Actinomycetes&Firmicutes', '21/06/22'], ['Andre Norris', '%28.46', 'Firmicutes', '21/06/22'], ['Albert Lewis', '%23.89', 'Cyanobacteria&Firmicutes', '01/08/22'], ['Javier Bailey', '%24.49', 'Cyanobacteria&Firmicutes', '01/08/22'], ['Everett Lyons', '%1.81', 'Cyanobacteria&Firmicutes', '01/08/22'], ['Abraham Maxwell', '%6.81', 'Proteobacteria', '01/08/22'], ['Traci Craig', '%0.65', 'Proteobacteria&Bacillus', '01/08/22'], ['Jeffrey Jenkins', '%26.45', 'Proteobacteria&Bacillus&Acidobacteria', '01/08/22'], ['Merle Wilson', '%7.69', 'Actinomycetes', '01/08/22'], ['Janis Franklin', '%8.74', 'Actinomycetes&Cyanobacteria', '01/08/22'], ['Leonard Guerrero', '%1.86', 'Bacillus', '01/08/22'], ['Lana Sanchez', '%14.75', 'Bacillus', '01/08/22'], ['Donna Ball', '%28.10', 'Bacillus&Acidobacteria', '01/08/22'], ['Terrell Barber', '%9.91', 'Proteobacteria', '01/08/22'], ['Jody Flores', '%16.34', 'Proteobacteria', '01/08/22'], ['Daryl Herrera', '%27.57', 'Chloroflexi', '21/06/22'], ['Miguel Mcguire', '%5.25', 'Chloroflexi&Acidobacteria', '01/08/22'], ['Rogelio Gonzalez', '%9.51', 'Chloroflexi&Cyanobacteria&Acidobacteria', '21/06/22'], ['Lora Hammond', '%20.56', 'Proteobacteria', '21/06/22'], ['Owen Ward', '%21.64', 'Proteobacteria&Bacillus', '21/06/22'], ['Malcolm Morales', '%24.99', 'Proteobacteria&Bacillus&Cyanobacteria', '21/06/22'], ['Eric Mcdaniel', '%29.70', 'Proteobacteria', '21/06/22'], ['Madeline Estrada', '%15.52', 'Proteobacteria', '21/06/22'], ['Leticia Manning', '%15.70', 'Proteobacteria&Actinomycetes', '21/06/22'], ['Mario Wallace', '%12.36', 'Proteobacteria', '21/06/22'], ['Lewis Glover', '%13.66', 'Proteobacteria&Chloroflexi', '21/06/22'], ['Gail Phelps', '%30.52', 'Proteobacteria&Chloroflexi&Acidobacteria', '21/06/22'], ['Myrtle Morris', '%22.66', 'Proteobacteria&Chloroflexi&Acidobacteria', '21/06/22']]\n",
      "{'04/05/22': 3.5805000000000002, '01/08/22': 4.444800000000001, '15/03/22': 1.8647999999999998, '21/06/22': 5.0973}\n"
     ]
    }
   ],
   "source": [
    "# Read file in as one block because too messy to read line by line\n",
    "with open(\"inputData/Day2-Project-MessyData.txt\") as inFile:\n",
    "  data = inFile.read()\n",
    "\n",
    "\n",
    "# Create your clean dataframe\n",
    "data_list = data.split(\",\")\n",
    "\n",
    "cleaned_data = []\n",
    "for item in data_list:\n",
    "  \n",
    "  cleaned_item = []\n",
    "  for item2 in item.strip().split(\"-\"):\n",
    "    cleaned_item.append(item2.strip())\n",
    "  \n",
    "  cleaned_data.append(cleaned_item)\n",
    "\n",
    "print(cleaned_data)\n",
    "\n",
    "# Calculate the average abundance per collection date\n",
    "date_dict = {}\n",
    "\n",
    "for collector,abund,phylum,date in cleaned_data:\n",
    "  \n",
    "  if date not in date_dict:\n",
    "    date_dict[date] = \"\"\n",
    "\n",
    "for i in date_dict.keys():\n",
    "\n",
    "  tot_abundance = 0\n",
    "\n",
    "  for collector,abund,phylum,date in cleaned_data:\n",
    "\n",
    "    if i == date:\n",
    "      tot_abundance += float(abund.replace('%', ''))\n",
    "\n",
    "  average_abund = tot_abundance/len(cleaned_data)\n",
    "\n",
    "  date_dict[i] = average_abund\n",
    "\n",
    "print(date_dict)\n",
    "\n",
    "  "
   ]
  }
 ],
 "metadata": {
  "kernelspec": {
   "display_name": ".venv",
   "language": "python",
   "name": "python3"
  },
  "language_info": {
   "codemirror_mode": {
    "name": "ipython",
    "version": 3
   },
   "file_extension": ".py",
   "mimetype": "text/x-python",
   "name": "python",
   "nbconvert_exporter": "python",
   "pygments_lexer": "ipython3",
   "version": "3.9.13"
  },
  "orig_nbformat": 4
 },
 "nbformat": 4,
 "nbformat_minor": 2
}
