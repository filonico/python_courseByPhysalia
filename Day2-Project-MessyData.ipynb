{
 "cells": [
  {
   "cell_type": "markdown",
   "metadata": {},
   "source": [
    "# Day2 Project Challenge - MessyData\n",
    "\n",
    "Find the original Notebook with detailed instructions by **Daniel Pass** [here](https://github.com/passdan/PracticalPythonProgrammingForBiologists/blob/main/Day2/P34B-Day2-Project-MessyData.ipynb).\n",
    "\n",
    "Find the input file [here](inputData/Day2-Project-MessyData.txt).\n",
    "\n",
    "> Data is messy. Biologist data even more so. Here we have some data on bacterial abundance as collected by some well meaning scientists but unfortunately it's a bit of a mess. It is technically in a four column format liks this, howver when you look below it's mixed up:\n",
    "> \n",
    ">       | Collector | Percentage abundance | Dominant Phyla | Date |\n",
    ">\n",
    "> Delimeters:\n",
    ">\n",
    "> * Between collected data samples: <code>,</code>\n",
    "> * Between data fields per sample: <code>-</code>\n",
    "> We want to clean up the data and make some sense out of it. The objective is to output a count of samples dominated by each phyla.\n",
    ">\n",
    "> Look at the text file first so that you know what we are looking at!"
   ]
  },
  {
   "cell_type": "code",
   "execution_count": 22,
   "metadata": {},
   "outputs": [
    {
     "name": "stdout",
     "output_type": "stream",
     "text": [
      "The collected phyla are:\n",
      "  - Chloroflexi\n",
      "  - Acidobacteria\n",
      "  - Bacillus\n",
      "  - Actinomycetes\n",
      "  - Firmicutes\n",
      "  - Proteobacteria\n",
      "  - Cyanobacteria\n",
      "\n",
      "\n",
      "Samples collected in 04/05/22 have an average abundance of 3.58%.\n",
      "Samples collected in 01/08/22 have an average abundance of 4.44%.\n",
      "Samples collected in 15/03/22 have an average abundance of 1.86%.\n",
      "Samples collected in 21/06/22 have an average abundance of 5.1%.\n"
     ]
    }
   ],
   "source": [
    "# Read file in as one block because too messy to read line by line\n",
    "with open(\"inputData/Day2-Project-MessyData.txt\") as inFile:\n",
    "  data = inFile.read()\n",
    "\n",
    "# Create your clean dataframe\n",
    "data_list = data.split(\",\")\n",
    "\n",
    "cleaned_data = []\n",
    "for item in data_list:\n",
    "  \n",
    "  cleaned_item = []\n",
    "  for item2 in item.strip().split(\"-\"):\n",
    "    cleaned_item.append(item2.strip())\n",
    "  \n",
    "  cleaned_data.append(cleaned_item)\n",
    "\n",
    "# Calculate the average abundance per collection date\n",
    "# Output a clean list of all named phyla from the data column\n",
    "date_dict = {}\n",
    "phyla_list = []\n",
    "\n",
    "for collector,abund,phylum,date in cleaned_data:\n",
    "\n",
    "  # Create an empty dictionary of dates\n",
    "  if date not in date_dict:\n",
    "    date_dict[date] = \"\"\n",
    "\n",
    "  # Create a list of phyla\n",
    "  if '&' not in phylum and phylum not in phyla_list:\n",
    "    phyla_list.append(phylum)\n",
    "  else:\n",
    "    phyla_item_list = phylum.split('&')\n",
    "\n",
    "    for i in phyla_item_list:\n",
    "      \n",
    "      if i not in phyla_list:\n",
    "        phyla_list.append(i)\n",
    "\n",
    "print(\"The collected phyla are:\")\n",
    "for phylum in phyla_list:\n",
    "  print(f\"  - {phylum}\")\n",
    "print(\"\\n\")\n",
    "\n",
    "for i in date_dict.keys():\n",
    "  \n",
    "  tot_abundance = 0\n",
    "\n",
    "  # Calculate the total abundance for each collection date\n",
    "  for collector,abund,phylum,date in cleaned_data:\n",
    "\n",
    "    if i == date:\n",
    "      tot_abundance += float(abund.replace('%', ''))\n",
    "\n",
    "  # Calculate the abundance average  for each collection date\n",
    "  average_abund = tot_abundance/len(cleaned_data)\n",
    "\n",
    "  date_dict[i] = average_abund\n",
    "\n",
    "for date in date_dict:\n",
    "  print(f\"Samples collected in {date} have an average abundance of {round(date_dict[date],2)}%.\")\n",
    "  "
   ]
  },
  {
   "cell_type": "code",
   "execution_count": null,
   "metadata": {},
   "outputs": [],
   "source": []
  }
 ],
 "metadata": {
  "kernelspec": {
   "display_name": ".venv",
   "language": "python",
   "name": "python3"
  },
  "language_info": {
   "codemirror_mode": {
    "name": "ipython",
    "version": 3
   },
   "file_extension": ".py",
   "mimetype": "text/x-python",
   "name": "python",
   "nbconvert_exporter": "python",
   "pygments_lexer": "ipython3",
   "version": "3.9.13"
  },
  "orig_nbformat": 4
 },
 "nbformat": 4,
 "nbformat_minor": 2
}
